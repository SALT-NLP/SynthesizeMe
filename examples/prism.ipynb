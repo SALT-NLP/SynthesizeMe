{
 "cells": [
  {
   "cell_type": "code",
   "execution_count": null,
   "metadata": {},
   "outputs": [],
   "source": [
    "from synthesizeme.personalrm.synthesizeme import SynthesizeMe\n",
    "from synthesizeme.datasets import PrismDataset"
   ]
  },
  {
   "cell_type": "markdown",
   "metadata": {},
   "source": [
    "## Collect User Feedback"
   ]
  },
  {
   "cell_type": "code",
   "execution_count": 2,
   "metadata": {},
   "outputs": [],
   "source": [
    "dataset = PrismDataset()\n",
    "train, val, test = dataset.get_user_data(dataset.get_user_ids()[27])\n",
    "# train, val, test = dataset.get_user_data(\"user123\")"
   ]
  },
  {
   "cell_type": "code",
   "execution_count": 3,
   "metadata": {},
   "outputs": [],
   "source": [
    "data = train[:]\n",
    "data.extend(val)"
   ]
  },
  {
   "cell_type": "markdown",
   "metadata": {},
   "source": [
    "## View the data"
   ]
  },
  {
   "cell_type": "code",
   "execution_count": null,
   "metadata": {},
   "outputs": [],
   "source": [
    "data[0]"
   ]
  },
  {
   "cell_type": "markdown",
   "metadata": {},
   "source": [
    "## Train Personal Reward Model"
   ]
  },
  {
   "cell_type": "code",
   "execution_count": 5,
   "metadata": {},
   "outputs": [],
   "source": [
    "# rm = SynthesizeMe(model_id='together_ai/meta-llama/Llama-4-Maverick-17B-128E-Instruct-FP8', num_workers=64)\n",
    "# rm = SynthesizeMe(model_id='gemini/gemini-2.0-flash', num_workers=64)\n",
    "rm = SynthesizeMe(model_id='gemini/gemini-2.5-flash-preview-05-20', num_workers=64)\n",
    "# rm = SynthesizeMe(model_id='Qwen/Qwen3-8B', num_workers=64, model_url='http://future-hgx-1.stanford.edu:7420/v1')\n",
    "# rm = SynthesizeMe(model_id='Qwen/Qwen3-30B-A3B', num_workers=64, model_url='http://future-hgx-1.stanford.edu:7410/v1')\n",
    "# rm = SynthesizeMe(model_id='Qwen/Qwen3-32B', num_workers=64, model_url='http://future-hgx-1.stanford.edu:7450/v1')\n",
    "# rm = DefaultJudge(model_id='Qwen/Qwen3-30B-A3B', num_workers=64, model_url='http://future-hgx-1.stanford.edu:7410/v1')\n",
    "# rm = SynthesizeMe(model_id='openai/gpt-4o-mini-2024-07-18', num_workers=64)"
   ]
  },
  {
   "cell_type": "code",
   "execution_count": null,
   "metadata": {},
   "outputs": [],
   "source": [
    "rm.fit(data)"
   ]
  },
  {
   "cell_type": "code",
   "execution_count": null,
   "metadata": {},
   "outputs": [],
   "source": [
    "rm.get_persona()"
   ]
  },
  {
   "cell_type": "code",
   "execution_count": 8,
   "metadata": {},
   "outputs": [],
   "source": [
    "# if rm.get_demos():\n",
    "#     print(rm.get_demos()[0])"
   ]
  },
  {
   "cell_type": "code",
   "execution_count": null,
   "metadata": {},
   "outputs": [],
   "source": [
    "rm.evaluate(test)"
   ]
  }
 ],
 "metadata": {
  "kernelspec": {
   "display_name": "personal_rm",
   "language": "python",
   "name": "python3"
  },
  "language_info": {
   "codemirror_mode": {
    "name": "ipython",
    "version": 3
   },
   "file_extension": ".py",
   "mimetype": "text/x-python",
   "name": "python",
   "nbconvert_exporter": "python",
   "pygments_lexer": "ipython3",
   "version": "3.10.14"
  }
 },
 "nbformat": 4,
 "nbformat_minor": 2
}
