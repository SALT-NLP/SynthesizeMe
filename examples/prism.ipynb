{
 "cells": [
  {
   "cell_type": "code",
   "execution_count": 1,
   "metadata": {},
   "outputs": [
    {
     "name": "stderr",
     "output_type": "stream",
     "text": [
      "/opt/miniconda3/envs/personal_rm/lib/python3.10/site-packages/tqdm/auto.py:21: TqdmWarning: IProgress not found. Please update jupyter and ipywidgets. See https://ipywidgets.readthedocs.io/en/stable/user_install.html\n",
      "  from .autonotebook import tqdm as notebook_tqdm\n"
     ]
    }
   ],
   "source": [
    "from synthesizeme.personalrm.synthesizeme import SynthesizeMe\n",
    "from synthesizeme.datasets import PrismDataset"
   ]
  },
  {
   "cell_type": "markdown",
   "metadata": {},
   "source": [
    "## Collect User Feedback"
   ]
  },
  {
   "cell_type": "code",
   "execution_count": 2,
   "metadata": {},
   "outputs": [],
   "source": [
    "dataset = PrismDataset()\n",
    "train, val, test = dataset.get_user_data(dataset.get_user_ids()[45])"
   ]
  },
  {
   "cell_type": "code",
   "execution_count": 3,
   "metadata": {},
   "outputs": [],
   "source": [
    "data = train[:]\n",
    "data.extend(val)"
   ]
  },
  {
   "cell_type": "markdown",
   "metadata": {},
   "source": [
    "## View the data"
   ]
  },
  {
   "cell_type": "code",
   "execution_count": 4,
   "metadata": {},
   "outputs": [
    {
     "data": {
      "text/plain": [
       "{'conversation_id': 'c2956',\n",
       " 'user_id': 'user549',\n",
       " 'context': array([{'content': 'Family value', 'role': 'user'}], dtype=object),\n",
       " 'chosen': {'content': 'I can only guess, but it sounds like you are asking what family values mean to me.\\n\\nFamily values are important to me because they are the shared beliefs and principles that guide your behavior and interactions within a family. These values can include things like honesty, kindness, respect, forgiveness, and love.\\n\\nI believe that having a strong set of family values can help to create a healthy and happy home environment, where everyone feels safe, supported, and loved. It can also help to build strong relationships between family members and create a sense of belonging.\\n\\nFamily values are often passed down from one generation to the next, and they can be a source of comfort and stability in times of uncertainty. By teaching and modeling these values, parents can help their children to develop a strong sense of identity and build confidence.\\n\\nIn short, family values are important to me because they are the foundation for a happy and healthy family life, and they can',\n",
       "  'role': 'model'},\n",
       " 'rejected': {'content': 'and parental control have always seemed closely linked. Recent research suggests that increased family conflict could have a negative influence on parenting. One possible solution could be to increase parental self-efficacy. The study was published in the online version of the Journal of Family Psychology (December).',\n",
       "  'role': 'model'},\n",
       " 'turns': 1,\n",
       " 'type': 'values guided',\n",
       " 'split': 'train',\n",
       " 'flip': True}"
      ]
     },
     "execution_count": 4,
     "metadata": {},
     "output_type": "execute_result"
    }
   ],
   "source": [
    "data[0]"
   ]
  },
  {
   "cell_type": "markdown",
   "metadata": {},
   "source": [
    "## Train Personal Reward Model"
   ]
  },
  {
   "cell_type": "code",
   "execution_count": 5,
   "metadata": {},
   "outputs": [],
   "source": [
    "# rm = SynthesizeMe(model_id='together_ai/meta-llama/Llama-4-Maverick-17B-128E-Instruct-FP8', num_workers=64)\n",
    "rm = SynthesizeMe(model_id='gemini/gemini-2.0-flash', num_workers=64)"
   ]
  },
  {
   "cell_type": "code",
   "execution_count": 6,
   "metadata": {},
   "outputs": [
    {
     "name": "stderr",
     "output_type": "stream",
     "text": [
      "Progress:   0%|          | 0/100 [00:00<?, ?it/s]2025/05/22 02:17:43 WARNING dspy.primitives.module: There is a mismatch of python version between saved model and current environment. You saved with `python==3.12`, but now you have `python==3.10`. This might cause errors or performance downgrade on the loaded model, please consider loading the model in the same environment as the saving environment.\n",
      "2025/05/22 02:17:43 WARNING dspy.primitives.module: There is a mismatch of dspy version between saved model and current environment. You saved with `dspy==2.6.12`, but now you have `dspy==2.6.24`. This might cause errors or performance downgrade on the loaded model, please consider loading the model in the same environment as the saving environment.\n",
      "Tested 13 potential demo sets with persona.: 100%|██████████| 100.0/100 [00:00<00:00, 411.08it/s]            \n"
     ]
    },
    {
     "data": {
      "text/plain": [
       "judge_persona.predict = Predict(StringSignature(conversation, first_completion, second_completion -> reasoning, preference\n",
       "    instructions=\"Given a conversation and two completions from different models, alongside some prior judgements and a user persona, determine which completion the human judge is more likely to prefer.  Use any provided context as well as the provided persona to speculate about the personal preferences of the judge.  You are a personalized reward model for this user, so think carefully about what this user will like.\\nThe user you are judging completions for has the FOLLOWING PERSONA: ===\\nThe synthesized persona is that of an individual who is well-informed, analytical, and seeks a comprehensive understanding of complex issues. They value factual accuracy and appreciate historical context and nuanced explanations. This person is likely interested in social and political topics and prefers balanced perspectives that acknowledge complexity and avoid oversimplification. They are not easily swayed by biased or unsubstantiated claims and prefer well-researched and thoughtfully presented information.\\n===\\n\\nNow, given the conversation and two completions, decide which completion the user is more likely to prefer.  Remember to consider the user's persona and preferences as you make your decision.\"\n",
       "    conversation = Field(annotation=str required=True json_schema_extra={'desc': 'The conversation context leading up to the completions.', '__dspy_field_type': 'input', 'prefix': 'Conversation:'})\n",
       "    first_completion = Field(annotation=str required=True json_schema_extra={'desc': 'The first of the two possible completions to judge between.', '__dspy_field_type': 'input', 'prefix': 'First Completion:'})\n",
       "    second_completion = Field(annotation=str required=True json_schema_extra={'desc': 'The second of the two possible completions to judge between.', '__dspy_field_type': 'input', 'prefix': 'Second Completion:'})\n",
       "    reasoning = Field(annotation=str required=True json_schema_extra={'prefix': \"Reasoning: Let's think step by step in order to\", 'desc': '${reasoning}', '__dspy_field_type': 'output'})\n",
       "    preference = Field(annotation=Literal['First', 'Second'] required=True json_schema_extra={'desc': \"The completion that the judge is more likely to prefer.  Possible values are 'First' and 'Second'.\", '__dspy_field_type': 'output', 'prefix': 'Preference:'})\n",
       "))"
      ]
     },
     "execution_count": 6,
     "metadata": {},
     "output_type": "execute_result"
    }
   ],
   "source": [
    "rm.fit(data)"
   ]
  },
  {
   "cell_type": "code",
   "execution_count": 7,
   "metadata": {},
   "outputs": [
    {
     "data": {
      "text/plain": [
       "'The synthesized persona is that of an individual who is well-informed, analytical, and seeks a comprehensive understanding of complex issues. They value factual accuracy and appreciate historical context and nuanced explanations. This person is likely interested in social and political topics and prefers balanced perspectives that acknowledge complexity and avoid oversimplification. They are not easily swayed by biased or unsubstantiated claims and prefer well-researched and thoughtfully presented information.'"
      ]
     },
     "execution_count": 7,
     "metadata": {},
     "output_type": "execute_result"
    }
   ],
   "source": [
    "rm.get_persona()"
   ]
  },
  {
   "cell_type": "code",
   "execution_count": 8,
   "metadata": {},
   "outputs": [
    {
     "name": "stdout",
     "output_type": "stream",
     "text": [
      "{'conversation': '[user]: Family value', 'first_completion': '[model]: I can only guess, but it sounds like you are asking what family values mean to me.\\n\\nFamily values are important to me because they are the shared beliefs and principles that guide your behavior and interactions within a family. These values can include things like honesty, kindness, respect, forgiveness, and love.\\n\\nI believe that having a strong set of family values can help to create a healthy and happy home environment, where everyone feels safe, supported, and loved. It can also help to build strong relationships between family members and create a sense of belonging.\\n\\nFamily values are often passed down from one generation to the next, and they can be a source of comfort and stability in times of uncertainty. By teaching and modeling these values, parents can help their children to develop a strong sense of identity and build confidence.\\n\\nIn short, family values are important to me because they are the foundation for a happy and healthy family life, and they can', 'second_completion': '[model]: and parental control have always seemed closely linked. Recent research suggests that increased family conflict could have a negative influence on parenting. One possible solution could be to increase parental self-efficacy. The study was published in the online version of the Journal of Family Psychology (December).', 'reasoning': \"The user's persona is that of an individual who is well-informed, analytical, and seeks a comprehensive understanding of complex issues. They value factual accuracy and appreciate historical context and nuanced explanations. The first completion provides a more comprehensive and nuanced explanation of family values, which aligns better with the user's persona. The second completion is more specific and research-oriented, but it may not be as broadly appealing to the user.\", 'preference': 'First'}\n"
     ]
    }
   ],
   "source": [
    "if rm.get_demos():\n",
    "    print(rm.get_demos()[0])"
   ]
  },
  {
   "cell_type": "code",
   "execution_count": 9,
   "metadata": {},
   "outputs": [
    {
     "data": {
      "text/plain": [
       "{'mean': 0.375,\n",
       " 'lower_bound': 0.125,\n",
       " 'upper_bound': 0.625,\n",
       " 'results': [0, 0, 0, 0, 1, 1, 0, 1, 0, 1, 0, 0, 1, 1, 0, 0]}"
      ]
     },
     "execution_count": 9,
     "metadata": {},
     "output_type": "execute_result"
    }
   ],
   "source": [
    "rm.evaluate(test)"
   ]
  }
 ],
 "metadata": {
  "kernelspec": {
   "display_name": "personal_rm",
   "language": "python",
   "name": "python3"
  },
  "language_info": {
   "codemirror_mode": {
    "name": "ipython",
    "version": 3
   },
   "file_extension": ".py",
   "mimetype": "text/x-python",
   "name": "python",
   "nbconvert_exporter": "python",
   "pygments_lexer": "ipython3",
   "version": "3.10.14"
  }
 },
 "nbformat": 4,
 "nbformat_minor": 2
}
