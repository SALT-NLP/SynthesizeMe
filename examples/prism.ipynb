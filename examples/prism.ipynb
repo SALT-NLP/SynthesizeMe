{
 "cells": [
  {
   "cell_type": "code",
   "execution_count": 1,
   "metadata": {},
   "outputs": [
    {
     "name": "stderr",
     "output_type": "stream",
     "text": [
      "/opt/miniconda3/envs/personal_rm/lib/python3.10/site-packages/tqdm/auto.py:21: TqdmWarning: IProgress not found. Please update jupyter and ipywidgets. See https://ipywidgets.readthedocs.io/en/stable/user_install.html\n",
      "  from .autonotebook import tqdm as notebook_tqdm\n"
     ]
    }
   ],
   "source": [
    "from synthesizeme.personalrm.synthesizeme import SynthesizeMe\n",
    "from synthesizeme.personalrm.default_judge import DefaultJudge\n",
    "from synthesizeme.datasets import PrismDataset"
   ]
  },
  {
   "cell_type": "markdown",
   "metadata": {},
   "source": [
    "## Collect User Feedback"
   ]
  },
  {
   "cell_type": "code",
   "execution_count": 2,
   "metadata": {},
   "outputs": [],
   "source": [
    "dataset = PrismDataset()\n",
    "train, val, test = dataset.get_user_data(dataset.get_user_ids()[24])"
   ]
  },
  {
   "cell_type": "code",
   "execution_count": 3,
   "metadata": {},
   "outputs": [],
   "source": [
    "data = train[:]\n",
    "data.extend(val)"
   ]
  },
  {
   "cell_type": "markdown",
   "metadata": {},
   "source": [
    "## View the data"
   ]
  },
  {
   "cell_type": "code",
   "execution_count": 4,
   "metadata": {},
   "outputs": [
    {
     "data": {
      "text/plain": [
       "{'conversation_id': 'c2704',\n",
       " 'user_id': 'user510',\n",
       " 'context': array([{'content': 'which country makes the best wine in the world?', 'role': 'user'}],\n",
       "       dtype=object),\n",
       " 'chosen': {'content': \"France is often considered the world's leading wine-producing country, with renowned regions like Bordeaux, Burgundy, and Champagne. However, other countries like Italy, Spain, and Portugal also have a long history of wine production and are known for producing high-quality wines. Ultimately, the best wine is a matter of personal taste and depends on the specific grape variety, winemaking techniques, and terroir of the region.\",\n",
       "  'role': 'model'},\n",
       " 'rejected': {'content': \"That's a tough question, as there are many countries that produce excellent wine. Some of the most renowned wine-producing countries include France, Italy, Spain, Portugal, Australia, New Zealand, and Chile. Ultimately, the best wine country is the one that produces the wines that you enjoy the most.\",\n",
       "  'role': 'model'},\n",
       " 'turns': 1,\n",
       " 'type': 'unguided',\n",
       " 'split': 'train',\n",
       " 'flip': False}"
      ]
     },
     "execution_count": 4,
     "metadata": {},
     "output_type": "execute_result"
    }
   ],
   "source": [
    "data[0]"
   ]
  },
  {
   "cell_type": "markdown",
   "metadata": {},
   "source": [
    "## Train Personal Reward Model"
   ]
  },
  {
   "cell_type": "code",
   "execution_count": 5,
   "metadata": {},
   "outputs": [],
   "source": [
    "# rm = SynthesizeMe(model_id='together_ai/meta-llama/Llama-4-Maverick-17B-128E-Instruct-FP8', num_workers=64)\n",
    "# rm = SynthesizeMe(model_id='gemini/gemini-2.5-flash-preview-05-20', num_workers=64)\n",
    "# rm = SynthesizeMe(model_id='Qwen/Qwen3-8B', num_workers=64, model_url='http://future-hgx-1.stanford.edu:7420/v1')\n",
    "# rm = SynthesizeMe(model_id='Qwen/Qwen3-30B-A3B', num_workers=64, model_url='http://future-hgx-1.stanford.edu:7410/v1')\n",
    "rm = DefaultJudge(model_id='Qwen/Qwen3-30B-A3B', num_workers=64, model_url='http://future-hgx-1.stanford.edu:7410/v1')"
   ]
  },
  {
   "cell_type": "code",
   "execution_count": 6,
   "metadata": {},
   "outputs": [],
   "source": [
    "rm.fit(data)"
   ]
  },
  {
   "cell_type": "code",
   "execution_count": 7,
   "metadata": {},
   "outputs": [],
   "source": [
    "# rm.get_persona()"
   ]
  },
  {
   "cell_type": "code",
   "execution_count": 8,
   "metadata": {},
   "outputs": [],
   "source": [
    "# if rm.get_demos():\n",
    "#     print(rm.get_demos()[0])"
   ]
  },
  {
   "cell_type": "code",
   "execution_count": 9,
   "metadata": {},
   "outputs": [
    {
     "data": {
      "text/plain": [
       "{'mean': 0.5833333333333334,\n",
       " 'lower_bound': 0.33333333333333337,\n",
       " 'upper_bound': 0.8333333333333335,\n",
       " 'results': [1, 1, 0, 0, 0, 1, 0, 1, 0, 1, 1, 1]}"
      ]
     },
     "execution_count": 9,
     "metadata": {},
     "output_type": "execute_result"
    }
   ],
   "source": [
    "rm.evaluate(test)"
   ]
  }
 ],
 "metadata": {
  "kernelspec": {
   "display_name": "personal_rm",
   "language": "python",
   "name": "python3"
  },
  "language_info": {
   "codemirror_mode": {
    "name": "ipython",
    "version": 3
   },
   "file_extension": ".py",
   "mimetype": "text/x-python",
   "name": "python",
   "nbconvert_exporter": "python",
   "pygments_lexer": "ipython3",
   "version": "3.10.14"
  }
 },
 "nbformat": 4,
 "nbformat_minor": 2
}
